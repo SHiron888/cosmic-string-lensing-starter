{
 "cells": [
  {
   "cell_type": "markdown",
   "id": "c59b52a2",
   "metadata": {},
   "source": [
    "# Toy Sky Demo\n",
    "\n",
    "This notebook simulates a toy sky with a straight cosmic string, runs a simple pair-finder, and visualizes the result.\n",
    "\n",
    "**Steps**\n",
    "1. Simulate a toy sky (`simulate_sky`).\n",
    "2. Detect sources and find twin-like pairs (`detect_sources`, `find_pairs`).\n",
    "3. Plot the image, mark detected peaks and pair connections.\n"
   ]
  },
  {
   "cell_type": "code",
   "execution_count": null,
   "id": "3502a4cd",
   "metadata": {},
   "outputs": [],
   "source": [
    "from src.sim_string import simulate_sky\n",
    "from src.pair_finder import detect_sources, find_pairs\n",
    "import numpy as np\n",
    "import matplotlib.pyplot as plt\n",
    "\n",
    "# 1) simulate a toy sky\n",
    "img, dups, x0 = simulate_sky(n_gal=1200, img_size=512, seed=42, sep_pix=6)\n",
    "\n",
    "# 2) detect sources and candidate pairs\n",
    "peaks = detect_sources(img, thresh=20.0)\n",
    "pairs = find_pairs(peaks, max_sep=8, flux_tol=0.15)\n",
    "print(f\"Detected peaks: {len(peaks)}  |  Candidate pairs: {len(pairs)}  |  String x ~ {x0}\")\n",
    "\n",
    "# 3) plot the toy sky and overlay detections\n",
    "plt.figure(figsize=(6,6))\n",
    "plt.imshow(img)  # no explicit colormap; uses matplotlib default\n",
    "\n",
    "# overlay peaks (default styling, no explicit color)\n",
    "if len(peaks) > 0:\n",
    "    ys, xs, fs = peaks[:,0], peaks[:,1], peaks[:,2]\n",
    "    plt.scatter(xs, ys, s=5)\n",
    "\n",
    "# connect pair members with short line segments\n",
    "for (y1, x1, f1, y2, x2, f2) in pairs[:200]:\n",
    "    plt.plot([x1, x2], [y1, y2], linewidth=0.5)\n",
    "\n",
    "# draw approximate string location as a vertical line\n",
    "plt.axvline(x=x0, linewidth=1.0)\n",
    "plt.title(\"Toy sky with candidate twin-like pairs\")\n",
    "plt.xlabel(\"x (pixels)\")\n",
    "plt.ylabel(\"y (pixels)\")\n",
    "plt.show()\n"
   ]
  },
  {
   "cell_type": "markdown",
   "id": "8c19f72d",
   "metadata": {},
   "source": [
    "**Notes**\n",
    "- This is a toy visualization. In Rubin, replace file I/O with **Butler**, prefilters with **Qserv**, photometry with **forced photometry** tasks, and photo-z with **RAIL**.\n",
    "- The plot uses matplotlib defaults and places each chart in a single figure.\n"
   ]
  }
 ],
 "metadata": {},
 "nbformat": 4,
 "nbformat_minor": 5
}
